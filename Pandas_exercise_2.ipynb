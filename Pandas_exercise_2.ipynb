{
 "cells": [
  {
   "cell_type": "code",
   "execution_count": 19,
   "metadata": {},
   "outputs": [],
   "source": [
    "import pandas as pd\n",
    "import numpy as np\n",
    "import re"
   ]
  },
  {
   "cell_type": "markdown",
   "metadata": {},
   "source": [
    "\n",
    "Load the energy data from the file `assets/Energy Indicators.xls`, which is a list of indicators of [energy supply and renewable electricity production](assets/Energy%20Indicators.xls) from the [United Nations](http://unstats.un.org/unsd/environment/excel_file_tables/2013/Energy%20Indicators.xls) for the year 2013, and should be put into a DataFrame with the variable name of **Energy**.\n",
    "\n",
    "Keep in mind that this is an Excel file, and not a comma separated values file. Also, make sure to exclude the footer and header information from the datafile. The first two columns are unneccessary, so we should get rid of them, and we should change the column labels so that the columns are:\n",
    "\n",
    "`['Country', 'Energy Supply', 'Energy Supply per Capita', '% Renewable]`\n",
    "\n",
    "Convert `Energy Supply` to gigajoules (**Note: there are 1,000,000 gigajoules in a petajoule**). For all countries which have missing data (e.g. data with \"...\") make sure this is reflected as `np.NaN` values.\n",
    "\n",
    "Rename the following list of countries (for use in later questions):\n",
    "\n",
    "```\"Republic of Korea\": \"South Korea\",\n",
    "\"United States of America\": \"United States\",\n",
    "\"United Kingdom of Great Britain and Northern Ireland\": \"United Kingdom\",\n",
    "\"China, Hong Kong Special Administrative Region\": \"Hong Kong\"```\n",
    "\n",
    "There are also several countries with numbers and/or parenthesis in their name. Be sure to remove these, e.g. `'Bolivia (Plurinational State of)'` should be `'Bolivia'`.  `'Switzerland17'` should be `'Switzerland'`.\n",
    "\n",
    "Next, load the GDP data from the file `assets/world_bank.csv`, which is a csv containing countries' GDP from 1960 to 2015 from [World Bank](http://data.worldbank.org/indicator/NY.GDP.MKTP.CD). Call this DataFrame **GDP**. \n",
    "\n",
    "Make sure to skip the header, and rename the following list of countries:\n",
    "\n",
    "```\"Korea, Rep.\": \"South Korea\", \n",
    "\"Iran, Islamic Rep.\": \"Iran\",\n",
    "\"Hong Kong SAR, China\": \"Hong Kong\"```\n",
    "\n",
    "Finally, load the [Sciamgo Journal and Country Rank data for Energy Engineering and Power Technology](http://www.scimagojr.com/countryrank.php?category=2102) from the file `assets/scimagojr-3.xlsx`, which ranks countries based on their journal contributions in the aforementioned area. Call this DataFrame **ScimEn**.\n",
    "\n",
    "Join the three datasets: GDP, Energy, and ScimEn into a new dataset (using the intersection of country names). Use only the last 10 years (2006-2015) of GDP data and only the top 15 countries by Scimagojr 'Rank' (Rank 1 through 15). \n",
    "\n",
    "The index of this DataFrame should be the name of the country, and the columns should be ['Rank', 'Documents', 'Citable documents', 'Citations', 'Self-citations',\n",
    "       'Citations per document', 'H index', 'Energy Supply',\n",
    "       'Energy Supply per Capita', '% Renewable', '2006', '2007', '2008',\n",
    "       '2009', '2010', '2011', '2012', '2013', '2014', '2015'].\n",
    "\n",
    "*This function should return a DataFrame with 20 columns and 15 entries, and the rows of the DataFrame should be sorted by \"Rank\".*"
   ]
  },
  {
   "cell_type": "code",
   "execution_count": null,
   "metadata": {},
   "outputs": [],
   "source": [
    "def main():\n",
    "    df = pd.read_excel('assets/Energy Indicators.xls', header=17, skipfooter=38, sheet_name='Energy')\n",
    "    df.drop(columns=[df.columns[0], df.columns[1]], axis=1, inplace=True)\n",
    "    df.columns = ['Country', 'Energy Supply', 'Energy Supply per Capita', '% Renewable']\n",
    "    df.set_index(\"Country\", inplace=True)\n",
    "    for i in range(len(df['Energy Supply'])):\n",
    "        if df['Energy Supply'][i] == '...':\n",
    "            df['Energy Supply'][i] = np.NaN\n",
    "    df['Energy Supply'] = df['Energy Supply'].apply(lambda x: x*1_000_000)\n",
    "    df.rename(index={\"Republic of Korea\": \"South Korea\", \"United States of America20\": \"United States\",\n",
    "                     \"United Kingdom of Great Britain and Northern Ireland19\": \"United Kingdom\",\n",
    "                     \"China, Hong Kong Special Administrative Region3\": \"Hong Kong\"}, inplace = True)\n",
    "    pattern = r\"[A-Z]\\w+ \\w+\"\n",
    "    for index in df.index:\n",
    "        df.rename(index={f\"{index}\": re.sub('\\d+', '', index)}, inplace = True)\n",
    "        df.rename(index={f\"{index}\": re.sub(' [(].+[)]', '', index)}, inplace = True)\n",
    "    df = df.reset_index()\n",
    "    df.rename(columns={'Country': 'Country Name'}, inplace=True)\n",
    "    \n",
    "    gdp = pd.read_csv('assets/world_bank.csv', header=4)\n",
    "    gdp.set_index(\"Country Name\", inplace=True)\n",
    "    gdp.rename(index={\"Korea, Rep.\": \"South Korea\", \"Iran, Islamic Rep.\": \"Iran\", \"Hong Kong SAR, China\": \"Hong Kong\"}, inplace=True)\n",
    "    gdp.drop(columns=gdp.columns[0:-10], inplace=True)\n",
    "    gdp = gdp.reset_index()\n",
    "    \n",
    "    ScimEn = pd.read_excel('assets/scimagojr-3.xlsx')\n",
    "    ScimEn.set_index('Rank', inplace=True)    \n",
    "    ScimEn.rename(columns={'Country': 'Country Name'}, inplace=True)\n",
    "    ScimEn = ScimEn.reset_index()\n",
    "    \n",
    "    result1 = pd.merge(ScimEn, df, how='inner', on='Country Name')\n",
    "    result = pd.merge(result1, gdp, how='inner', on='Country Name')\n",
    "    test = pd.merge(ScimEn, gdp, how='inner', on='Country Name')\n",
    "    result.set_index('Country Name', inplace=True)\n",
    "    result = pd.DataFrame(result[:15])\n",
    "    meanSupplyPerCapita = result['Energy Supply per Capita'].mean(axis=0)\n",
    "    ReNew = result.sort_values(by=['% Renewable'], ascending=False)\n",
    "    return result\n",
    "    raise NotImplementedError()\n",
    "main()"
   ]
  }
 ],
 "metadata": {
  "kernelspec": {
   "display_name": "Python 3",
   "language": "python",
   "name": "python3"
  },
  "language_info": {
   "codemirror_mode": {
    "name": "ipython",
    "version": 3
   },
   "file_extension": ".py",
   "mimetype": "text/x-python",
   "name": "python",
   "nbconvert_exporter": "python",
   "pygments_lexer": "ipython3",
   "version": "3.8.5"
  }
 },
 "nbformat": 4,
 "nbformat_minor": 4
}
