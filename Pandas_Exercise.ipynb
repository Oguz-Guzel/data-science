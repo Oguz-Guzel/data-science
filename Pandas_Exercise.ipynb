{
 "cells": [
  {
   "cell_type": "markdown",
   "metadata": {},
   "source": [
    "## Part 1"
   ]
  },
  {
   "cell_type": "markdown",
   "metadata": {},
   "source": [
    "The dataset and the guide for it is available at https://www.cdc.gov/vaccines/imz-managers/nis/datasets.html\n",
    "\n",
    "Write a function called `proportion_of_education` which returns the proportion of children in the dataset who had a mother with the education levels equal to less than high school (<12), high school (12), more than high school but not a college graduate (>12) and college degree.\n",
    "\n",
    "*This function should return a dictionary in the form of (use the correct numbers, do not round numbers):* \n",
    "```\n",
    "    {\"less than high school\":0.2,\n",
    "    \"high school\":0.4,\n",
    "    \"more than high school but not college\":0.2,\n",
    "    \"college\":0.2}\n",
    "```"
   ]
  },
  {
   "cell_type": "code",
   "execution_count": 25,
   "metadata": {},
   "outputs": [
    {
     "data": {
      "text/plain": [
       "{'less than high school': 0.10202002459160373,\n",
       " 'high school': 0.172352011241876,\n",
       " 'more than high school but not college': 0.24588090637625154,\n",
       " 'college': 0.47974705779026877}"
      ]
     },
     "execution_count": 25,
     "metadata": {},
     "output_type": "execute_result"
    }
   ],
   "source": [
    "import pandas as pd\n",
    "\n",
    "def proportion_of_education():\n",
    "    \n",
    "    df = pd.read_csv('NISPUF17.csv', index_col=0)\n",
    "    \n",
    "    educ = len(df['EDUC1'])\n",
    "    lths = len(df.loc[df.EDUC1 == 1])/educ\n",
    "    hs = len(df.loc[df.EDUC1 == 2])/educ\n",
    "    mthsbnc = len(df.loc[df.EDUC1 == 3])/educ\n",
    "    c = len(df.loc[df.EDUC1 == 4])/educ\n",
    "    \n",
    "    dict_of_proportions = {}\n",
    "    list_of_values = [lths, hs, mthsbnc, c]\n",
    "    keys = ['less than high school', 'high school', 'more than high school but not college', 'college']\n",
    "    \n",
    "    dict_of_proportions = dict(zip(keys, list_of_values))\n",
    "    \n",
    "    \n",
    "    return dict_of_proportions\n",
    "    raise NotImplementedError()\n",
    "proportion_of_education()"
   ]
  },
  {
   "cell_type": "markdown",
   "metadata": {},
   "source": [
    "## Part 2"
   ]
  },
  {
   "cell_type": "markdown",
   "metadata": {},
   "source": [
    "Let's explore the relationship between being fed breastmilk as a child and getting a seasonal influenza vaccine from a healthcare provider. Return a tuple of the average number of influenza vaccines for those children we know received breastmilk as a child and those who know did not.\n",
    "\n",
    "This function should return a tuple in the form (use the correct numbers:\n",
    "\n",
    "(2.5, 0.1)"
   ]
  },
  {
   "cell_type": "code",
   "execution_count": 16,
   "metadata": {},
   "outputs": [
    {
     "data": {
      "text/plain": [
       "(1.8799187420058687, 1.5963945918878317)"
      ]
     },
     "execution_count": 16,
     "metadata": {},
     "output_type": "execute_result"
    }
   ],
   "source": [
    "def average_influenza_doses():\n",
    "    df = pd.read_csv('NISPUF17.csv', index_col=0)\n",
    "    \n",
    "    flu = pd.DataFrame(df.groupby('CBF_01')['P_NUMFLU'].mean())\n",
    "    \n",
    "    avarage = (float(flu.iloc[0]), float(flu.iloc[1]))\n",
    "    \n",
    "    return avarage\n",
    "    raise NotImplementedError()\n",
    "average_influenza_doses()"
   ]
  },
  {
   "cell_type": "markdown",
   "metadata": {},
   "source": [
    "## Part 3"
   ]
  },
  {
   "cell_type": "markdown",
   "metadata": {},
   "source": [
    "It would be interesting to see if there is any evidence of a link between vaccine effectiveness and sex of the child. Calculate the ratio of the number of children who contracted chickenpox but were vaccinated against it (at least one varicella dose) versus those who were vaccinated but did not contract chicken pox. Return results by sex."
   ]
  },
  {
   "cell_type": "code",
   "execution_count": 28,
   "metadata": {},
   "outputs": [
    {
     "data": {
      "text/plain": [
       "{'male': 0.009675583380762664, 'female': 0.0077918259335489565}"
      ]
     },
     "execution_count": 28,
     "metadata": {},
     "output_type": "execute_result"
    }
   ],
   "source": [
    "def chickenpox_by_sex():\n",
    "    df = pd.read_csv('NISPUF17.csv', index_col=0)\n",
    "    \n",
    "    df_NUMVRC = df.loc[(df.P_NUMVRC >= 1)]\n",
    "    \n",
    "    had_cpox_male = df_NUMVRC.loc[(df.HAD_CPOX == 1) & (df.SEX == 1)]\n",
    "    had_cpox_female = df_NUMVRC.loc[(df.HAD_CPOX == 1) & (df.SEX == 2)]\n",
    "    hadnot_cpox_male = df_NUMVRC.loc[(df.HAD_CPOX == 2) & (df.SEX == 1)]\n",
    "    hadnot_cpox_female = df_NUMVRC.loc[(df.HAD_CPOX == 2) & (df.SEX == 2)]\n",
    "    \n",
    "    male = len(had_cpox_male)/len(hadnot_cpox_male)\n",
    "    female = len(had_cpox_female)/len(hadnot_cpox_female)\n",
    "    \n",
    "    dict = {'male': male, 'female': female}\n",
    "    \n",
    "    return dict\n",
    "\n",
    "    raise NotImplementedError()\n",
    "chickenpox_by_sex()"
   ]
  },
  {
   "cell_type": "markdown",
   "metadata": {},
   "source": [
    "## Part 4"
   ]
  },
  {
   "cell_type": "markdown",
   "metadata": {},
   "source": [
    "A correlation is a statistical relationship between two variables. If we wanted to know if vaccines work, we might look at the correlation between the use of the vaccine and whether it results in prevention of the infection or disease [1]. In this question, you are to see if there is a correlation between having had the chicken pox and the number of chickenpox vaccine doses given (varicella).\n",
    "\n",
    "Some notes on interpreting the answer. The had_chickenpox_column is either 1 (for yes) or 2 (for no), and the num_chickenpox_vaccine_column is the number of doses a child has been given of the varicella vaccine. A positive correlation (e.g., corr > 0) means that an increase in had_chickenpox_column (which means more no’s) would also increase the values of num_chickenpox_vaccine_column (which means more doses of vaccine). If there is a negative correlation (e.g., corr < 0), it indicates that having had chickenpox is related to an increase in the number of vaccine doses.\n",
    "\n",
    "Also, pval is the probability that we observe a correlation between had_chickenpox_column and num_chickenpox_vaccine_column which is greater than or equal to a particular value occurred by chance. A small pval means that the observed correlation is highly unlikely to occur by chance. In this case, pval should be very small (will end in e-18 indicating a very small number).\n",
    "\n",
    "[1] This isn’t really the full picture, since we are not looking at when the dose was given. It’s possible that children had chickenpox and then their parents went to get them the vaccine. Does this dataset have the data we would need to investigate the timing of the dose?"
   ]
  },
  {
   "cell_type": "code",
   "execution_count": 30,
   "metadata": {},
   "outputs": [
    {
     "data": {
      "text/plain": [
       "0.07044873460148"
      ]
     },
     "execution_count": 30,
     "metadata": {},
     "output_type": "execute_result"
    }
   ],
   "source": [
    "def corr_chickenpox():\n",
    "    import scipy.stats as stats\n",
    "    import numpy as np\n",
    "    import pandas as pd\n",
    "    \n",
    "    df = pd.read_csv('NISPUF17.csv', index_col=0)\n",
    "    \n",
    "    df_NUMVRC = pd.DataFrame(df['P_NUMVRC'])\n",
    "    df_HADCPOX = pd.DataFrame(df['HAD_CPOX'])\n",
    "    df_for_corr = pd.concat([df_NUMVRC, df_HADCPOX], axis=1).loc[(df['HAD_CPOX'] < 3)].dropna()\n",
    "    \n",
    "    corr, pval=stats.pearsonr(df_for_corr['P_NUMVRC'], df_for_corr['HAD_CPOX'])\n",
    "    \n",
    "    return corr\n",
    "    raise NotImplementedError()\n",
    "corr_chickenpox()"
   ]
  },
  {
   "cell_type": "code",
   "execution_count": null,
   "metadata": {},
   "outputs": [],
   "source": []
  }
 ],
 "metadata": {
  "kernelspec": {
   "display_name": "Python 3",
   "language": "python",
   "name": "python3"
  },
  "language_info": {
   "codemirror_mode": {
    "name": "ipython",
    "version": 3
   },
   "file_extension": ".py",
   "mimetype": "text/x-python",
   "name": "python",
   "nbconvert_exporter": "python",
   "pygments_lexer": "ipython3",
   "version": "3.8.5"
  }
 },
 "nbformat": 4,
 "nbformat_minor": 4
}
