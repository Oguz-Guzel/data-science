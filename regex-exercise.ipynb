{
 "cells": [
  {
   "cell_type": "markdown",
   "metadata": {},
   "source": [
    "## Part A\n",
    "\n",
    "Find a list of all of the names in the following string using regex."
   ]
  },
  {
   "cell_type": "code",
   "execution_count": 11,
   "metadata": {},
   "outputs": [
    {
     "data": {
      "text/plain": [
       "['Amy', 'Mary', 'Ruth', 'Peter']"
      ]
     },
     "execution_count": 11,
     "metadata": {},
     "output_type": "execute_result"
    }
   ],
   "source": [
    "import re\n",
    "def names():\n",
    "    simple_string = \"\"\"Amy is 5 years old, and her sister Mary is 2 years old. \n",
    "    Ruth and Peter, their parents, have 3 kids.\"\"\"\n",
    "\n",
    "    pattern = r\"([A-Z]\\w+)\"\n",
    "\n",
    "    results = re.findall(pattern, simple_string)\n",
    "    return results\n",
    "    raise NotImplementedError()\n",
    "names()"
   ]
  },
  {
   "cell_type": "code",
   "execution_count": 12,
   "metadata": {},
   "outputs": [],
   "source": [
    "assert len(names()) == 4, \"There are four names in the simple_string\""
   ]
  },
  {
   "cell_type": "markdown",
   "metadata": {},
   "source": [
    "## Part B\n",
    "\n",
    "The dataset file in [assets/grades.txt](assets/grades.txt) contains a line separated list of people with their grade in \n",
    "a class. Create a regex to generate a list of just those students who received a B in the course."
   ]
  },
  {
   "cell_type": "code",
   "execution_count": 13,
   "metadata": {},
   "outputs": [],
   "source": [
    "import re  \n",
    "def listToString(s):  \n",
    "    str1 = \"\"  \n",
    "    for ele in s:  \n",
    "        str1 += ele   \n",
    "    return str1  \n",
    "\n",
    "def grades():\n",
    "    with open (\"assets/grades.txt\", \"r\") as file:\n",
    "        grades = file.read()\n",
    "        \n",
    "    pattern = r\"(\\w+ \\w+: B)\"\n",
    "    results = re.findall(pattern, grades)\n",
    "    \n",
    "    results2 = listToString(results)\n",
    "    pattern2 = r\"([A-Z][a-z]\\w+ \\w+)\"\n",
    "    \n",
    "    results3 = re.findall(pattern2, results2)\n",
    "    \n",
    "    return results3\n",
    "    raise NotImplementedError()"
   ]
  },
  {
   "cell_type": "code",
   "execution_count": 14,
   "metadata": {},
   "outputs": [],
   "source": [
    "assert len(grades()) == 16"
   ]
  },
  {
   "cell_type": "markdown",
   "metadata": {},
   "source": [
    "## Part C\n",
    "\n",
    "Consider the standard web log file in [assets/logdata.txt](assets/logdata.txt). This file records the access a user makes when visiting a web page (like this one!). Each line of the log has the following items:\n",
    "* a host (e.g., '146.204.224.152') \n",
    "* a user_name (e.g., 'feest6811' **note: sometimes the user name is missing! In this case, use '-' as the value for the username.**)\n",
    "* the time a request was made (e.g., '21/Jun/2019:15:45:24 -0700')\n",
    "* the post request type (e.g., 'POST /incentivize HTTP/1.1' **note: not everything is a POST!**)\n",
    "\n",
    "Your task is to convert this into a list of dictionaries, where each dictionary looks like the following:\n",
    "```\n",
    "example_dict = {\"host\":\"146.204.224.152\", \n",
    "                \"user_name\":\"feest6811\", \n",
    "                \"time\":\"21/Jun/2019:15:45:24 -0700\",\n",
    "                \"request\":\"POST /incentivize HTTP/1.1\"}\n",
    "```"
   ]
  },
  {
   "cell_type": "code",
   "execution_count": 15,
   "metadata": {},
   "outputs": [],
   "source": [
    "import re\n",
    "def logs():\n",
    "    with open(\"assets/logdata.txt\", \"r\") as file:\n",
    "        logdata = file.read()\n",
    "    \n",
    "    host_pattern = r\"(\\d+\\.\\d+\\.\\d+\\.\\d+)\"\n",
    "    username_pattern = r\"(\\- -|[a-z]+[a-z]\\d+)\"\n",
    "    time_pattern = r\"(21/Jun/2019:\\d{2}:\\d{2}:\\d{2}\\ -\\d{4})\"\n",
    "    request_pattern = r\"\\\"(.+)\\\"\"\n",
    "    \n",
    "    hosts = re.findall(host_pattern, logdata)\n",
    "    user_names = re.findall(username_pattern, logdata)\n",
    "    for i in range(len(user_names)):\n",
    "        if user_names[i] == \"- -\":\n",
    "            user_names[i] = \"-\"\n",
    "    dates = re.findall(time_pattern, logdata)\n",
    "    requests = re.findall(request_pattern, logdata)\n",
    "    \n",
    "    dict_of_lists = {}\n",
    "\n",
    "    for i in range(len(hosts)):\n",
    "        dict_of_lists['values'+str(i)] = [hosts[i], user_names[i], dates[i], requests[i]]\n",
    "        \n",
    "    keys = [\"host\", \"user_name\", \"time\", \"request\"]\n",
    "\n",
    "    list_of_dict = []\n",
    "    \n",
    "    for i in range(979):\n",
    "        list_of_dict.append(dict(zip(keys, dict_of_lists[\"values\"+str(i)])))\n",
    "    \n",
    "    return list_of_dict"
   ]
  },
  {
   "cell_type": "code",
   "execution_count": 16,
   "metadata": {},
   "outputs": [],
   "source": [
    "assert len(logs()) == 979\n",
    "\n",
    "one_item={'host': '146.204.224.152',\n",
    "  'user_name': 'feest6811',\n",
    "  'time': '21/Jun/2019:15:45:24 -0700',\n",
    "  'request': 'POST /incentivize HTTP/1.1'}\n",
    "assert one_item in logs(), \"Sorry, this item should be in the log results, check your formating\"\n",
    "\n"
   ]
  },
  {
   "cell_type": "code",
   "execution_count": null,
   "metadata": {},
   "outputs": [],
   "source": []
  }
 ],
 "metadata": {
  "kernelspec": {
   "display_name": "Python 3",
   "language": "python",
   "name": "python3"
  },
  "language_info": {
   "codemirror_mode": {
    "name": "ipython",
    "version": 3
   },
   "file_extension": ".py",
   "mimetype": "text/x-python",
   "name": "python",
   "nbconvert_exporter": "python",
   "pygments_lexer": "ipython3",
   "version": "3.8.5"
  }
 },
 "nbformat": 4,
 "nbformat_minor": 4
}
