{
 "cells": [
  {
   "cell_type": "markdown",
   "metadata": {},
   "source": [
    "\n",
    "## Description\n",
    "We read in a file of metropolitan regions and associated sports teams from [assets/wikipedia_data.html](assets/wikipedia_data.html) and answer some questions about each metropolitan region. Each of these regions may have one or more teams from the \"Big 4\": NFL (football, in [assets/nfl.csv](assets/nfl.csv)), MLB (baseball, in [assets/mlb.csv](assets/mlb.csv)), NBA (basketball, in [assets/nba.csv](assets/nba.csv) or NHL (hockey, in [assets/nhl.csv](assets/nhl.csv)).\n",
    "\n",
    "For each sport we would like to answer the question: **what is the win/loss ratio's correlation with the population of the city it is in?** Win/Loss ratio refers to the number of wins over the number of wins plus the number of losses. To calculate the correlation with [`pearsonr`](https://docs.scipy.org/doc/scipy/reference/generated/scipy.stats.pearsonr.html), so we are going to send in two ordered lists of values, the populations from the wikipedia_data.html file and the win/loss ratio for a given sport in the same order. Average the win/loss ratios for those cities which have multiple teams of a single sport. Each sport is worth an equal amount in this assignment (20%\\*4=80%) of the grade for this assignment. We will only use data **from year 2018** for our analysis."
   ]
  },
  {
   "cell_type": "markdown",
   "metadata": {},
   "source": [
    "### Part 1\n",
    "For the first part, I calculate the win/loss ratio's correlation with the population of the city it is in for the **NHL** using **2018** data."
   ]
  },
  {
   "cell_type": "code",
   "execution_count": 10,
   "metadata": {},
   "outputs": [],
   "source": [
    "import pandas as pd\n",
    "import numpy as np\n",
    "import scipy.stats as stats\n",
    "import re"
   ]
  },
  {
   "cell_type": "code",
   "execution_count": 51,
   "metadata": {},
   "outputs": [
    {
     "data": {
      "text/plain": [
       "0.012308996455744264"
      ]
     },
     "execution_count": 51,
     "metadata": {},
     "output_type": "execute_result"
    }
   ],
   "source": [
    "def nhl_correlation():\n",
    "    \"Read in the data\"\n",
    "    nhl_df = pd.read_csv(\"assets/nhl.csv\")\n",
    "    cities = pd.read_html(\"assets/wikipedia_data.html\")[1]\n",
    "    cities = cities.iloc[:-1,[0,3,5,6,7,8]]\n",
    "    \n",
    "    \"Clearing the data\"\n",
    "    nhl_df.team = nhl_df.team.map(lambda x: x.replace('*', ''))\n",
    "    pattern_for_cities = r\"(\\[.*|\\—)\"\n",
    "    cities.NHL = cities.NHL.map(lambda x: re.sub(pattern_for_cities, '', x))\n",
    "    cities = cities.loc[(cities.NHL != '')]\n",
    "    \n",
    "    \"Forming the columns that we will use\"\n",
    "    city_list = cities['Metropolitan area']\n",
    "    pattern = '|'.join(city_list)\n",
    "    nhl_df['Metropolitan area'] = nhl_df['team'].str.findall(pattern)\n",
    "    nhl_df['Metropolitan area'] = [' '.join(map(str, x)) for x in nhl_df['Metropolitan area']]\n",
    "\n",
    "    \"Adding the missing values\"\n",
    "    nhl_df.loc[nhl_df['team'].str.contains('Tampa'), 'Metropolitan area'] = 'Tampa Bay Area'\n",
    "    nhl_df.loc[nhl_df['team'].str.contains('Washington Capitals'), 'Metropolitan area'] = 'Washington, D.C.'\n",
    "    nhl_df.loc[nhl_df['team'].str.contains('Carolina Hurricanes'), 'Metropolitan area'] = 'Raleigh'\n",
    "    nhl_df.loc[nhl_df['team'].str.contains('New York'), 'Metropolitan area'] = 'New York City'\n",
    "    nhl_df.loc[nhl_df['team'].str.contains('Minnesota Wild'), 'Metropolitan area'] = 'Minneapolis–Saint Paul'\n",
    "    nhl_df.loc[nhl_df['team'].str.contains('Colorado Avalanche'), 'Metropolitan area'] = 'Denver'\n",
    "    nhl_df.loc[nhl_df['team'].str.contains('New Jersey Devils'), 'Metropolitan area'] = 'New York City'\n",
    "    nhl_df.loc[nhl_df['team'].str.contains('Dallas'), 'Metropolitan area'] = 'Dallas-Fort Worth'\n",
    "    nhl_df.loc[nhl_df['team'].str.contains('Vegas'), 'Metropolitan area'] = 'Las Vegas'\n",
    "    nhl_df.loc[nhl_df['team'].str.contains('Anaheim'), 'Metropolitan area'] = 'Los Angeles'\n",
    "    nhl_df.loc[nhl_df['team'].str.contains('San Jose Sharks'), 'Metropolitan area'] = 'San Francisco Bay Area'\n",
    "    nhl_df.loc[nhl_df['team'].str.contains('Arizona Coyotes'), 'Metropolitan area'] = 'Phoenix'\n",
    "    nhl_df.loc[nhl_df['team'].str.contains('Florida Panthers'), 'Metropolitan area'] = 'Miami–Fort Lauderdale'\n",
    "    \n",
    "    \"Removing the rows that have non-integer values and only the year 2018\"\n",
    "    nhl_df = nhl_df.loc[(nhl_df.team != 'Metropolitan Division') & (nhl_df.team != 'Atlantic Division') &\\\n",
    "                       (nhl_df.team != 'Central Division') & (nhl_df.team != 'Pacific Division') &\\\n",
    "                       (nhl_df.year == 2018)]\n",
    "    \n",
    "    \"Changing to the int\"\n",
    "    nhl_df.W = nhl_df.W.astype(int)\n",
    "    nhl_df.L = nhl_df.L.astype(int)\n",
    "\n",
    "    \"Actual analysis\"\n",
    "    group_nhl_df = nhl_df.groupby(by = ['Metropolitan area']).sum()\n",
    "    group_nhl_df['win_loss_ratio'] = group_nhl_df['W'] / (group_nhl_df['W'] + group_nhl_df['L'])\n",
    "    \n",
    "    cities.sort_values(by = ['Metropolitan area'], inplace=True)\n",
    "    \n",
    "    win_loss_by_region = group_nhl_df['win_loss_ratio']\n",
    "    population_by_region = cities['Population (2016 est.)[8]'].astype(int)\n",
    "    \n",
    "    corr, pval = stats.pearsonr(population_by_region, win_loss_by_region)\n",
    "    \n",
    "    assert len(population_by_region) == len(win_loss_by_region), \"Lists must be the same length\"\n",
    "    assert len(population_by_region) == 28, \"There should be 28 teams being analysed for NHL\"\n",
    "    return corr\n",
    "    raise NotImplementedError()\n",
    "\n",
    "nhl_correlation()"
   ]
  },
  {
   "cell_type": "markdown",
   "metadata": {},
   "source": [
    "### Part 2\n",
    "For this part, I calculate the win/loss ratio's correlation with the population of the city it is in for the **NBA** using **2018** data."
   ]
  },
  {
   "cell_type": "code",
   "execution_count": 56,
   "metadata": {},
   "outputs": [
    {
     "data": {
      "text/plain": [
       "-0.17657160252844611"
      ]
     },
     "execution_count": 56,
     "metadata": {},
     "output_type": "execute_result"
    }
   ],
   "source": [
    "def nba_correlation():\n",
    "    \"Read in the data\"\n",
    "    nba_df=pd.read_csv(\"assets/nba.csv\")\n",
    "    cities=pd.read_html(\"assets/wikipedia_data.html\")[1]\n",
    "    cities=cities.iloc[:-1,[0,3,5,6,7,8]]\n",
    "\n",
    "    \"Clearing the data\"\n",
    "    nba_df = nba_df.loc[(nba_df.year == 2018)]\n",
    "    pattern_for_team = r\"(\\*)|\\(.*\\)\"\n",
    "    nba_df.team = nba_df.team.map(lambda x: re.sub(pattern_for_team, '', x))\n",
    "    \n",
    "    pattern_for_cities = r\"(\\[.*|\\—)\"\n",
    "    cities.NBA = cities.NBA.map(lambda x: re.sub(pattern_for_cities, '', x))\n",
    "    cities = cities.loc[(cities.NBA != '')]\n",
    "\n",
    "    \"Forming the columns that we will use\"\n",
    "    city_list = cities['Metropolitan area']\n",
    "    pattern = '|'.join(city_list)\n",
    "    nba_df['Metropolitan area'] = nba_df['team'].str.findall(pattern)\n",
    "    nba_df['Metropolitan area'] = [' '.join(map(str, x)) for x in nba_df['Metropolitan area']]\n",
    "    \n",
    "    \"Adding the missing values\"\n",
    "    nba_df.loc[nba_df['team'].str.contains('Indiana Pacers'), 'Metropolitan area'] = 'Indianapolis'\n",
    "    nba_df.loc[nba_df['team'].str.contains('Miami Heat'), 'Metropolitan area'] = 'Miami–Fort Lauderdale'\n",
    "    nba_df.loc[nba_df['team'].str.contains('Washington Wizards'), 'Metropolitan area'] = 'Washington, D.C.'\n",
    "    nba_df.loc[nba_df['team'].str.contains('New York'), 'Metropolitan area'] = 'New York City'\n",
    "    nba_df.loc[nba_df['team'].str.contains('Brooklyn Nets'), 'Metropolitan area'] = 'New York City'\n",
    "    nba_df.loc[nba_df['team'].str.contains('Golden State Warriors'), 'Metropolitan area'] = 'San Francisco Bay Area'\n",
    "    nba_df.loc[nba_df['team'].str.contains('Utah Jazz'), 'Metropolitan area'] = 'Salt Lake City'\n",
    "    nba_df.loc[nba_df['team'].str.contains('Minnesota Timberwolves'), 'Metropolitan area'] = 'Minneapolis–Saint Paul'\n",
    "    nba_df.loc[nba_df['team'].str.contains('Dallas Mavericks'), 'Metropolitan area'] = 'Dallas-Fort Worth'\n",
    "    \n",
    "    \"Changing to the int\"\n",
    "    nba_df.W = nba_df.W.astype(int)\n",
    "    nba_df.L = nba_df.L.astype(int)\n",
    "\n",
    "    \"Actual analysis\"\n",
    "    group_nba_df = nba_df.groupby(by = ['Metropolitan area']).sum()\n",
    "    group_nba_df['win_loss_ratio'] = group_nba_df['W'] / (group_nba_df['W'] + group_nba_df['L'])\n",
    "    \n",
    "    cities.sort_values(by = ['Metropolitan area'], inplace=True)\n",
    "\n",
    "    win_loss_by_region = group_nba_df['win_loss_ratio']\n",
    "    population_by_region = cities['Population (2016 est.)[8]'].astype(int)\n",
    "\n",
    "    corr, pval = stats.pearsonr(population_by_region, win_loss_by_region)\n",
    "    \n",
    "    assert len(population_by_region) == len(win_loss_by_region), \"Lists must be the same length\"\n",
    "    assert len(population_by_region) == 28, \"There should be 28 teams being analysed for NBA\"\n",
    "\n",
    "    return corr\n",
    "\n",
    "nba_correlation()"
   ]
  },
  {
   "cell_type": "markdown",
   "metadata": {},
   "source": [
    "### Part 3\n",
    "For this part, I calculate the win/loss ratio's correlation with the population of the city it is in for the **MLB** using **2018** data."
   ]
  },
  {
   "cell_type": "code",
   "execution_count": 57,
   "metadata": {},
   "outputs": [
    {
     "data": {
      "text/plain": [
       "0.1505230448710485"
      ]
     },
     "execution_count": 57,
     "metadata": {},
     "output_type": "execute_result"
    }
   ],
   "source": [
    "def mlb_correlation(): \n",
    "    \"Read in the data\"\n",
    "    mlb_df=pd.read_csv(\"assets/mlb.csv\")\n",
    "    cities=pd.read_html(\"assets/wikipedia_data.html\")[1]\n",
    "    cities=cities.iloc[:-1,[0,3,5,6,7,8]]\n",
    "    \n",
    "    \"Clearing the data\"\n",
    "    mlb_df = mlb_df.loc[(mlb_df.year == 2018)]\n",
    "    \n",
    "    pattern_for_cities = r\"(\\[.*|\\—)\"\n",
    "    cities.MLB = cities.MLB.map(lambda x: re.sub(pattern_for_cities, '', x))\n",
    "    cities = cities.loc[(cities.MLB != '')]\n",
    "\n",
    "    \"Forming the columns that we will use\"\n",
    "    city_list = cities['Metropolitan area']\n",
    "    pattern = '|'.join(city_list)\n",
    "    mlb_df['Metropolitan area'] = mlb_df['team'].str.findall(pattern)\n",
    "    mlb_df['Metropolitan area'] = [' '.join(map(str, x)) for x in mlb_df['Metropolitan area']]\n",
    "    \n",
    "    \"Adding the missing values\"\n",
    "    mlb_df.loc[mlb_df['team'].str.contains('New York Yankees'), 'Metropolitan area'] = 'New York City'\n",
    "    mlb_df.loc[mlb_df['team'].str.contains('Tampa Bay Rays'), 'Metropolitan area'] = 'Tampa Bay Area'\n",
    "    mlb_df.loc[mlb_df['team'].str.contains('Minnesota Twins'), 'Metropolitan area'] = 'Minneapolis–Saint Paul'\n",
    "    mlb_df.loc[mlb_df['team'].str.contains('Oakland Athletics'), 'Metropolitan area'] = 'San Francisco Bay Area'\n",
    "    mlb_df.loc[mlb_df['team'].str.contains('Texas Rangers'), 'Metropolitan area'] = 'Dallas-Fort Worth'\n",
    "    mlb_df.loc[mlb_df['team'].str.contains('Atlanta Braves'), 'Metropolitan area'] = 'Atlanta'\n",
    "    mlb_df.loc[mlb_df['team'].str.contains('Washington Nationals'), 'Metropolitan area'] = 'Washington, D.C.'\n",
    "    mlb_df.loc[mlb_df['team'].str.contains('New York Mets'), 'Metropolitan area'] = 'New York City'\n",
    "    mlb_df.loc[mlb_df['team'].str.contains('Miami Marlins'), 'Metropolitan area'] = 'Miami–Fort Lauderdale'\n",
    "    mlb_df.loc[mlb_df['team'].str.contains('Colorado Rockies'), 'Metropolitan area'] = 'Denver'\n",
    "    mlb_df.loc[mlb_df['team'].str.contains('Arizona Diamondbacks'), 'Metropolitan area'] = 'Phoenix'\n",
    "    mlb_df.loc[mlb_df['team'].str.contains('San Francisco Giants'), 'Metropolitan area'] = 'San Francisco Bay Area'\n",
    "    \n",
    "    \"Changing to the int\"\n",
    "    mlb_df.W = mlb_df.W.astype(int)\n",
    "    mlb_df.L = mlb_df.L.astype(int)\n",
    "\n",
    "    \"Actual analysis\"\n",
    "    group_mlb_df = mlb_df.groupby(by = ['Metropolitan area']).sum()\n",
    "    group_mlb_df['win_loss_ratio'] = group_mlb_df['W'] / (group_mlb_df['W'] + group_mlb_df['L'])\n",
    "    \n",
    "    cities.sort_values(by = ['Metropolitan area'], inplace=True)\n",
    "\n",
    "    win_loss_by_region = group_mlb_df['win_loss_ratio']\n",
    "    population_by_region = cities['Population (2016 est.)[8]'].astype(int)\n",
    "\n",
    "    corr, pval = stats.pearsonr(population_by_region, win_loss_by_region)\n",
    "\n",
    "    assert len(population_by_region) == len(win_loss_by_region), \"Lists must be the same length\"\n",
    "    assert len(population_by_region) == 26, \"There should be 26 teams being analysed for MLB\"\n",
    "\n",
    "    return corr\n",
    "\n",
    "mlb_correlation()"
   ]
  },
  {
   "cell_type": "markdown",
   "metadata": {},
   "source": [
    "### Part 4\n",
    "For this part, I calculate the win/loss ratio's correlation with the population of the city it is in for the **NFL** using **2018** data."
   ]
  },
  {
   "cell_type": "code",
   "execution_count": 75,
   "metadata": {},
   "outputs": [
    {
     "data": {
      "text/plain": [
       "0.004922112149349456"
      ]
     },
     "execution_count": 75,
     "metadata": {},
     "output_type": "execute_result"
    }
   ],
   "source": [
    "def nfl_correlation():\n",
    "    \"Read in the data\"\n",
    "    nfl_df=pd.read_csv(\"assets/nfl.csv\")\n",
    "    cities=pd.read_html(\"assets/wikipedia_data.html\")[1]\n",
    "    cities=cities.iloc[:-1,[0,3,5,6,7,8]]\n",
    "    \n",
    "    \"Clearing the data\"\n",
    "    pattern_for_team = r\"(\\+)|(\\*)\"\n",
    "    nfl_df.team = nfl_df.team.map(lambda x: re.sub(pattern_for_team, '', x))\n",
    "            \n",
    "    pattern_for_cities = r\"(\\[.*|\\—)\"\n",
    "    cities.NFL = cities.NFL.map(lambda x: re.sub(pattern_for_cities, '', x))\n",
    "    cities = cities.loc[(cities.NFL != '') & (cities.NFL != ' ')]\n",
    "    \n",
    "    nfl_df = nfl_df.loc[(nfl_df.team != 'AFC East') & (nfl_df.team != 'AFC South') &\\\n",
    "                       (nfl_df.team != 'NFC East') & (nfl_df.team != 'AFC West') &\\\n",
    "                        (nfl_df.team != 'NFC North') & (nfl_df.team != 'NFC South') &\\\n",
    "                       (nfl_df.team != 'NFC West') & (nfl_df.team != 'AFC North') &\\\n",
    "                        (nfl_df.year == 2018)]\n",
    "    \n",
    "\n",
    "\n",
    "    \"Forming the columns that we will use\"\n",
    "    city_list = cities['Metropolitan area']\n",
    "    pattern = '|'.join(city_list)\n",
    "    nfl_df['Metropolitan area'] = nfl_df['team'].str.findall(pattern)\n",
    "    nfl_df['Metropolitan area'] = [' '.join(map(str, x)) for x in nfl_df['Metropolitan area']]\n",
    "            \n",
    "    \"Adding the missing values\"\n",
    "    nfl_df.loc[nfl_df['team'].str.contains('New England Patriots'), 'Metropolitan area'] = 'Boston'\n",
    "    nfl_df.loc[nfl_df['team'].str.contains('Miami Dolphins'), 'Metropolitan area'] = 'Miami–Fort Lauderdale'\n",
    "    nfl_df.loc[nfl_df['team'].str.contains('New York Jets'), 'Metropolitan area'] = 'New York City'\n",
    "    nfl_df.loc[nfl_df['team'].str.contains('Tennessee Titans'), 'Metropolitan area'] = 'Nashville'\n",
    "    nfl_df.loc[nfl_df['team'].str.contains('Oakland Raiders'), 'Metropolitan area'] = 'San Francisco Bay Area'\n",
    "    nfl_df.loc[nfl_df['team'].str.contains('Dallas Cowboys'), 'Metropolitan area'] = 'Dallas-Fort Worth'\n",
    "    nfl_df.loc[nfl_df['team'].str.contains('Washington Redskins'), 'Metropolitan area'] = 'Washington, D.C.'\n",
    "    nfl_df.loc[nfl_df['team'].str.contains('New York Giants'), 'Metropolitan area'] = 'New York City'\n",
    "    nfl_df.loc[nfl_df['team'].str.contains('Minnesota Vikings'), 'Metropolitan area'] = 'Minneapolis–Saint Paul'\n",
    "    nfl_df.loc[nfl_df['team'].str.contains('Carolina Panthers'), 'Metropolitan area'] = 'Charlotte'\n",
    "    nfl_df.loc[nfl_df['team'].str.contains('Tampa Bay Buccaneers'), 'Metropolitan area'] = 'Tampa Bay Area'\n",
    "    nfl_df.loc[nfl_df['team'].str.contains('San Francisco 49ers'), 'Metropolitan area'] = 'San Francisco Bay Area'\n",
    "    nfl_df.loc[nfl_df['team'].str.contains('Arizona Cardinals'), 'Metropolitan area'] = 'Phoenix'\n",
    "    \n",
    "    \"Changing to the int\"\n",
    "    nfl_df.W = nfl_df.W.astype(int)\n",
    "    nfl_df.L = nfl_df.L.astype(int)\n",
    "\n",
    "    \"Actual analysis\"\n",
    "    group_nfl_df = nfl_df.groupby(by = ['Metropolitan area']).sum()\n",
    "    group_nfl_df['win_loss_ratio'] = group_nfl_df['W'] / (group_nfl_df['W'] + group_nfl_df['L'])\n",
    "    \n",
    "    cities.sort_values(by = ['Metropolitan area'], inplace=True)\n",
    "\n",
    "    win_loss_by_region = group_nfl_df['win_loss_ratio']\n",
    "    population_by_region = cities['Population (2016 est.)[8]'].astype(int)\n",
    "\n",
    "    corr, pval = stats.pearsonr(population_by_region, win_loss_by_region)\n",
    "\n",
    "    assert len(population_by_region) == len(win_loss_by_region), \"Lists must be the same length\"\n",
    "    assert len(population_by_region) == 29, \"There should be 29 teams being analysed for NFL\"    \n",
    "    return corr\n",
    "\n",
    "nfl_correlation()"
   ]
  },
  {
   "cell_type": "code",
   "execution_count": null,
   "metadata": {},
   "outputs": [],
   "source": []
  }
 ],
 "metadata": {
  "kernelspec": {
   "display_name": "Python 3",
   "language": "python",
   "name": "python3"
  },
  "language_info": {
   "codemirror_mode": {
    "name": "ipython",
    "version": 3
   },
   "file_extension": ".py",
   "mimetype": "text/x-python",
   "name": "python",
   "nbconvert_exporter": "python",
   "pygments_lexer": "ipython3",
   "version": "3.8.5"
  }
 },
 "nbformat": 4,
 "nbformat_minor": 4
}
